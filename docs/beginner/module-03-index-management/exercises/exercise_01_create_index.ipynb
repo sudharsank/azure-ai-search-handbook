{
  "cells": [
    {
      "cell_type": "markdown",
      "metadata": {},
      "source": [
        "# Exercise 01 Create Index\n",
        "\n",
        "## Instructions\n",
        "\n",
        "Complete the exercises below. Each cell contains a task with starter code.\n",
        "Run each cell and modify the code as needed to complete the exercises.\n",
        "\n",
        "## Setup\n",
        "\n",
        "First, let's import the required libraries and set up our environment:\n"
      ]
    },
    {
      "cell_type": "code",
      "metadata": {},
      "source": [
        "# Setup and imports\n",
        "import os\n",
        "import sys\n",
        "from pathlib import Path\n",
        "\n",
        "# Add the project root to the path\n",
        "project_root = Path().resolve()\n",
        "while not (project_root / 'setup').exists() and project_root != project_root.parent:\n",
        "    project_root = project_root.parent\n",
        "sys.path.append(str(project_root))\n",
        "\n",
        "print(f\"Project root: {project_root}\")\n"
      ],
      "execution_count": null,
      "outputs": []
    },
    {
      "cell_type": "code",
      "metadata": {},
      "source": [
        "\"\"\"",
        "Exercise 1: Create Your First Index",
        "Practice index creation and schema design",
        "\"\"\"",
        "",
        "# Placeholder for index creation exercises",
        "# Content to be expanded during implementation"
      ],
      "execution_count": null,
      "outputs": []
    }
  ],
  "metadata": {
    "kernelspec": {
      "display_name": "Python 3",
      "language": "python",
      "name": "python3"
    },
    "language_info": {
      "codemirror_mode": {
        "name": "ipython",
        "version": 3
      },
      "file_extension": ".py",
      "mimetype": "text/x-python",
      "name": "python",
      "nbconvert_exporter": "python",
      "pygments_lexer": "ipython3",
      "version": "3.8.0"
    }
  },
  "nbformat": 4,
  "nbformat_minor": 4
}